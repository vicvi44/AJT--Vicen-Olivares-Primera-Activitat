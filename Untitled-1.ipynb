{
 "cells": [
  {
   "cell_type": "markdown",
   "id": "7fc2ad4c",
   "metadata": {},
   "source": [
    "Exercici 1: Enters"
   ]
  },
  {
   "cell_type": "code",
   "execution_count": 1,
   "id": "85515897",
   "metadata": {},
   "outputs": [],
   "source": [
    "preu_entrada=8.35"
   ]
  },
  {
   "cell_type": "code",
   "execution_count": 29,
   "id": "1a692326",
   "metadata": {},
   "outputs": [],
   "source": [
    "nombre_entrades=1"
   ]
  },
  {
   "cell_type": "code",
   "execution_count": 33,
   "id": "4263fd3d",
   "metadata": {},
   "outputs": [],
   "source": [
    "cost_total=preu_entrada*nombre_entrades"
   ]
  },
  {
   "cell_type": "code",
   "execution_count": 31,
   "id": "2b5edbe9",
   "metadata": {},
   "outputs": [
    {
     "data": {
      "text/plain": [
       "8.35"
      ]
     },
     "execution_count": 31,
     "metadata": {},
     "output_type": "execute_result"
    }
   ],
   "source": [
    "cost_total"
   ]
  },
  {
   "cell_type": "code",
   "execution_count": 32,
   "id": "d18615f9",
   "metadata": {},
   "outputs": [],
   "source": [
    "nombre_entrades=5"
   ]
  },
  {
   "cell_type": "code",
   "execution_count": 38,
   "id": "1f490286",
   "metadata": {},
   "outputs": [],
   "source": [
    "cost_total=preu_entrada*nombre_entrades"
   ]
  },
  {
   "cell_type": "code",
   "execution_count": 34,
   "id": "1839cecd",
   "metadata": {},
   "outputs": [
    {
     "data": {
      "text/plain": [
       "41.75"
      ]
     },
     "execution_count": 34,
     "metadata": {},
     "output_type": "execute_result"
    }
   ],
   "source": [
    "cost_total"
   ]
  },
  {
   "cell_type": "code",
   "execution_count": 35,
   "id": "bc8381c3",
   "metadata": {},
   "outputs": [],
   "source": [
    "nombre_entrades=354"
   ]
  },
  {
   "cell_type": "code",
   "execution_count": 39,
   "id": "823c5798",
   "metadata": {},
   "outputs": [],
   "source": [
    "cost_total=preu_entrada*nombre_entrades"
   ]
  },
  {
   "cell_type": "code",
   "execution_count": 40,
   "id": "5a446e86",
   "metadata": {},
   "outputs": [
    {
     "data": {
      "text/plain": [
       "2955.9"
      ]
     },
     "execution_count": 40,
     "metadata": {},
     "output_type": "execute_result"
    }
   ],
   "source": [
    "cost_total"
   ]
  },
  {
   "cell_type": "code",
   "execution_count": 41,
   "id": "599b58d4",
   "metadata": {},
   "outputs": [],
   "source": [
    "nombre_entrades=10"
   ]
  },
  {
   "cell_type": "code",
   "execution_count": 42,
   "id": "db1e685a",
   "metadata": {},
   "outputs": [],
   "source": [
    "cost_total=preu_entrada*nombre_entrades"
   ]
  },
  {
   "cell_type": "code",
   "execution_count": 43,
   "id": "366f79cb",
   "metadata": {},
   "outputs": [],
   "source": [
    "nombre_entrades_retornades=4"
   ]
  },
  {
   "cell_type": "code",
   "execution_count": 48,
   "id": "00b1952c",
   "metadata": {},
   "outputs": [],
   "source": [
    "percentatge=0.88"
   ]
  },
  {
   "cell_type": "code",
   "execution_count": 51,
   "id": "81f8d353",
   "metadata": {},
   "outputs": [],
   "source": [
    "cost_final=cost_total-nombre_entrades_retornades*percentatge"
   ]
  },
  {
   "cell_type": "code",
   "execution_count": 52,
   "id": "00318a6d",
   "metadata": {},
   "outputs": [
    {
     "data": {
      "text/plain": [
       "79.98"
      ]
     },
     "execution_count": 52,
     "metadata": {},
     "output_type": "execute_result"
    }
   ],
   "source": [
    "cost_final"
   ]
  },
  {
   "cell_type": "markdown",
   "id": "ee1808df",
   "metadata": {},
   "source": [
    "Exercici 2:"
   ]
  },
  {
   "cell_type": "code",
   "execution_count": 55,
   "id": "492527fb",
   "metadata": {},
   "outputs": [],
   "source": [
    "poblacio=1000"
   ]
  },
  {
   "cell_type": "code",
   "execution_count": 56,
   "id": "d83f9c1e",
   "metadata": {},
   "outputs": [],
   "source": [
    "infectats_inicials=10"
   ]
  },
  {
   "cell_type": "code",
   "execution_count": 57,
   "id": "70655ad3",
   "metadata": {},
   "outputs": [],
   "source": [
    "taxa_contagi=0.01"
   ]
  },
  {
   "cell_type": "code",
   "execution_count": 59,
   "id": "d99e0bd9",
   "metadata": {},
   "outputs": [],
   "source": [
    "dies=5"
   ]
  },
  {
   "cell_type": "code",
   "execution_count": 62,
   "id": "85795ad8",
   "metadata": {},
   "outputs": [],
   "source": [
    "nombre_infectats=infectats_inicials+(poblacio-infectats_inicials)*(1-(1-taxa_contagi)**5)"
   ]
  },
  {
   "cell_type": "code",
   "execution_count": 63,
   "id": "d096ccc9",
   "metadata": {},
   "outputs": [
    {
     "data": {
      "text/plain": [
       "58.51985059900009"
      ]
     },
     "execution_count": 63,
     "metadata": {},
     "output_type": "execute_result"
    }
   ],
   "source": [
    "nombre_infectats"
   ]
  },
  {
   "cell_type": "markdown",
   "id": "78768edc",
   "metadata": {},
   "source": [
    "Exercici 3:"
   ]
  },
  {
   "cell_type": "code",
   "execution_count": 68,
   "id": "89d953b0",
   "metadata": {},
   "outputs": [],
   "source": [
    "import math"
   ]
  },
  {
   "cell_type": "code",
   "execution_count": 172,
   "id": "b4d9e51d",
   "metadata": {},
   "outputs": [],
   "source": [
    "r=3"
   ]
  },
  {
   "cell_type": "code",
   "execution_count": 173,
   "id": "4d7736f7",
   "metadata": {},
   "outputs": [],
   "source": [
    "P=2*math.pi*r"
   ]
  },
  {
   "cell_type": "code",
   "execution_count": 174,
   "id": "eacfd767",
   "metadata": {},
   "outputs": [
    {
     "data": {
      "text/plain": [
       "18.85"
      ]
     },
     "execution_count": 174,
     "metadata": {},
     "output_type": "execute_result"
    }
   ],
   "source": [
    "round(P,2)"
   ]
  },
  {
   "cell_type": "code",
   "execution_count": 175,
   "id": "111847ff",
   "metadata": {},
   "outputs": [],
   "source": [
    "A=math.pi*r**2"
   ]
  },
  {
   "cell_type": "code",
   "execution_count": 176,
   "id": "44d405a4",
   "metadata": {},
   "outputs": [
    {
     "data": {
      "text/plain": [
       "28.27"
      ]
     },
     "execution_count": 176,
     "metadata": {},
     "output_type": "execute_result"
    }
   ],
   "source": [
    "round(A,2)"
   ]
  },
  {
   "cell_type": "code",
   "execution_count": 177,
   "id": "fecf2eb5",
   "metadata": {},
   "outputs": [],
   "source": [
    "V=3/4*math.pi*r**3"
   ]
  },
  {
   "cell_type": "code",
   "execution_count": 178,
   "id": "b1271ac6",
   "metadata": {},
   "outputs": [
    {
     "data": {
      "text/plain": [
       "63.62"
      ]
     },
     "execution_count": 178,
     "metadata": {},
     "output_type": "execute_result"
    }
   ],
   "source": [
    "round(V,2)"
   ]
  },
  {
   "cell_type": "code",
   "execution_count": 179,
   "id": "12f7e38e",
   "metadata": {},
   "outputs": [
    {
     "name": "stdout",
     "output_type": "stream",
     "text": [
      "Pel radi 3, el perímetre és 18.85 m, l'àrea és 28.27 m2, i el volum és 63.62 m3.\n"
     ]
    }
   ],
   "source": [
    "print(f\"Pel radi {r}, el perímetre és {round(P,2)} m, l'àrea és {round(A,2)} m2, i el volum és {round(V,2)} m3.\")"
   ]
  },
  {
   "cell_type": "code",
   "execution_count": 180,
   "id": "20dede5e",
   "metadata": {},
   "outputs": [],
   "source": [
    "r=4"
   ]
  },
  {
   "cell_type": "code",
   "execution_count": 181,
   "id": "a64369d2",
   "metadata": {},
   "outputs": [],
   "source": [
    "P=2*math.pi*r"
   ]
  },
  {
   "cell_type": "code",
   "execution_count": 182,
   "id": "ed58354c",
   "metadata": {},
   "outputs": [
    {
     "data": {
      "text/plain": [
       "25.13"
      ]
     },
     "execution_count": 182,
     "metadata": {},
     "output_type": "execute_result"
    }
   ],
   "source": [
    "round(P,2)"
   ]
  },
  {
   "cell_type": "code",
   "execution_count": 183,
   "id": "15996e2d",
   "metadata": {},
   "outputs": [],
   "source": [
    "A=math.pi*r**2"
   ]
  },
  {
   "cell_type": "code",
   "execution_count": 184,
   "id": "e5d98b6f",
   "metadata": {},
   "outputs": [
    {
     "data": {
      "text/plain": [
       "50.27"
      ]
     },
     "execution_count": 184,
     "metadata": {},
     "output_type": "execute_result"
    }
   ],
   "source": [
    "round(A,2)"
   ]
  },
  {
   "cell_type": "code",
   "execution_count": 185,
   "id": "8f0ac2cb",
   "metadata": {},
   "outputs": [],
   "source": [
    "V=3/4*math.pi*r**3"
   ]
  },
  {
   "cell_type": "code",
   "execution_count": 186,
   "id": "24729ab2",
   "metadata": {},
   "outputs": [
    {
     "data": {
      "text/plain": [
       "150.8"
      ]
     },
     "execution_count": 186,
     "metadata": {},
     "output_type": "execute_result"
    }
   ],
   "source": [
    "round(V,2)"
   ]
  },
  {
   "cell_type": "code",
   "execution_count": 187,
   "id": "35f8bccf",
   "metadata": {},
   "outputs": [
    {
     "name": "stdout",
     "output_type": "stream",
     "text": [
      "Pel radi 4, el perímetre és 25.13 m, l'àrea és 50.27 m2, i el volum és 150.8 m3.\n"
     ]
    }
   ],
   "source": [
    "print(f\"Pel radi {r}, el perímetre és {round(P,2)} m, l'àrea és {round(A,2)} m2, i el volum és {round(V,2)} m3.\")"
   ]
  },
  {
   "cell_type": "markdown",
   "id": "a5eb224c",
   "metadata": {},
   "source": [
    "Exercici 4:"
   ]
  },
  {
   "cell_type": "code",
   "execution_count": 188,
   "id": "b3ef3c6b",
   "metadata": {},
   "outputs": [],
   "source": [
    "nom= \"Vicenç Olivares\""
   ]
  },
  {
   "cell_type": "code",
   "execution_count": 192,
   "id": "4770453e",
   "metadata": {},
   "outputs": [],
   "source": [
    "primera_lletra=nom[0]"
   ]
  },
  {
   "cell_type": "code",
   "execution_count": 194,
   "id": "d3e9d2a6",
   "metadata": {},
   "outputs": [
    {
     "data": {
      "text/plain": [
       "'V'"
      ]
     },
     "execution_count": 194,
     "metadata": {},
     "output_type": "execute_result"
    }
   ],
   "source": [
    "primera_lletra"
   ]
  },
  {
   "cell_type": "code",
   "execution_count": 197,
   "id": "c5114c5f",
   "metadata": {},
   "outputs": [],
   "source": [
    "ultima_lletra=nom[-1]"
   ]
  },
  {
   "cell_type": "code",
   "execution_count": 198,
   "id": "ca1d477c",
   "metadata": {},
   "outputs": [
    {
     "data": {
      "text/plain": [
       "'s'"
      ]
     },
     "execution_count": 198,
     "metadata": {},
     "output_type": "execute_result"
    }
   ],
   "source": [
    "ultima_lletra"
   ]
  },
  {
   "cell_type": "code",
   "execution_count": 199,
   "id": "bde94d05",
   "metadata": {},
   "outputs": [],
   "source": [
    "tres_lletres=nom[2:5]"
   ]
  },
  {
   "cell_type": "code",
   "execution_count": 200,
   "id": "96b47911",
   "metadata": {},
   "outputs": [
    {
     "data": {
      "text/plain": [
       "'cen'"
      ]
     },
     "execution_count": 200,
     "metadata": {},
     "output_type": "execute_result"
    }
   ],
   "source": [
    "tres_lletres"
   ]
  },
  {
   "cell_type": "code",
   "execution_count": 201,
   "id": "d3faf57a",
   "metadata": {},
   "outputs": [],
   "source": [
    "nom_M=nom.upper()"
   ]
  },
  {
   "cell_type": "code",
   "execution_count": 202,
   "id": "0816d02c",
   "metadata": {},
   "outputs": [
    {
     "data": {
      "text/plain": [
       "'VICENÇ OLIVARES'"
      ]
     },
     "execution_count": 202,
     "metadata": {},
     "output_type": "execute_result"
    }
   ],
   "source": [
    "nom_M"
   ]
  },
  {
   "cell_type": "code",
   "execution_count": 203,
   "id": "b2bc0b3d",
   "metadata": {},
   "outputs": [],
   "source": [
    "nom_m=nom.lower()"
   ]
  },
  {
   "cell_type": "code",
   "execution_count": 204,
   "id": "c0ad804d",
   "metadata": {},
   "outputs": [
    {
     "data": {
      "text/plain": [
       "'vicenç olivares'"
      ]
     },
     "execution_count": 204,
     "metadata": {},
     "output_type": "execute_result"
    }
   ],
   "source": [
    "nom_m"
   ]
  },
  {
   "cell_type": "code",
   "execution_count": 206,
   "id": "823258fa",
   "metadata": {},
   "outputs": [],
   "source": [
    "llargada_nom=len(nom)"
   ]
  },
  {
   "cell_type": "code",
   "execution_count": 208,
   "id": "ae2fe314",
   "metadata": {},
   "outputs": [
    {
     "name": "stdout",
     "output_type": "stream",
     "text": [
      "Hola, el meu nom és Vicenç Olivares. La primera lletra del meu nom és V. L'última lletra del meu nom és s. Els tres caràcters entre la posició 2 i la posició 5 són: cen. El meu nom, amb espais, té 15 caràcters. El meu nom en majúscules es veu així VICENÇ OLIVARES. El meu nom en minúscules es veu així vicenç olivares.\n"
     ]
    }
   ],
   "source": [
    "print(f\"Hola, el meu nom és {nom}. La primera lletra del meu nom és {primera_lletra}. L'última lletra del meu nom és {ultima_lletra}. Els tres caràcters entre la posició 2 i la posició 5 són: {tres_lletres}. El meu nom, amb espais, té {llargada_nom} caràcters. El meu nom en majúscules es veu així {nom_M}. El meu nom en minúscules es veu així {nom_m}.\")"
   ]
  },
  {
   "cell_type": "code",
   "execution_count": null,
   "id": "53f20718",
   "metadata": {},
   "outputs": [],
   "source": []
  }
 ],
 "metadata": {
  "kernelspec": {
   "display_name": "Python 3",
   "language": "python",
   "name": "python3"
  },
  "language_info": {
   "codemirror_mode": {
    "name": "ipython",
    "version": 3
   },
   "file_extension": ".py",
   "mimetype": "text/x-python",
   "name": "python",
   "nbconvert_exporter": "python",
   "pygments_lexer": "ipython3",
   "version": "3.13.7"
  }
 },
 "nbformat": 4,
 "nbformat_minor": 5
}
